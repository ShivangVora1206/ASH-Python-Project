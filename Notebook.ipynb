{
  "cells": [
    {
      "cell_type": "markdown",
      "metadata": {
        "id": "aQ1IX5ejfjQ0"
      },
      "source": [
        "# Anki Flashcards Python Project\n",
        "\n",
        "**Authors**: Shivang, Alam, Heiko, Hanif\n",
        "\n",
        "**Semester**: Winter 2024/25\n",
        "\n",
        "## Description\n",
        "This is a python program intended to help users learn german words easily and build their vocabulary. The program will display a german word and the user will have options to flip the cards and see the meaning. The user can then choose whether they knew the meaning or not. The program will keep track of the user's progress and display the words that the user is struggling with more frequently.\n",
        "\n",
        "### Goals of the Project\n",
        "1. Create a database for the german words and their meanings\n",
        "2. Implement game logic and an algortihm to track user progress\n",
        "3. Create a user interface for the game\n",
        "4. (Optional) Implement a feature to add new words to the database\n",
        "\n",
        "### Roadmap to Reach the Goal\n",
        "We defined several steps to realize the project goals:\n",
        "1. Step 1\n",
        "2. Step 2\n",
        "3. Step 3\n",
        "\n",
        "### Responsibilities\n",
        "We divided the work packages among all team members and discussed the progress in team meetings.\n",
        "- Shivang:\n",
        "- Alam:\n",
        "- Heiko:\n",
        "- Hanif: \n"
      ]
    },
    {
      "cell_type": "markdown",
      "metadata": {
        "id": "5U4J-fQufjQ2"
      },
      "source": [
        "## Project Code"
      ]
    },
    {
      "cell_type": "markdown",
      "metadata": {
        "id": "fupcvfLDfjQ3"
      },
      "source": [
        "### Custom Classes\n",
        "\n",
        "- `Card`: This class will represent a single card with a german word and its meaning.\n",
        "- `Deck`: This class will represent a deck of cards. It will have methods to add new cards, remove cards, and shuffle the deck.\n",
        "- `Game`: This class will represent the game logic. It will have methods to display the cards, flip the cards, and track user progress.\n",
        "- `Database`: This class will represent the database of german words and their meanings. It will have methods to add new words, remove words, and update the meanings.\n"
      ]
    },
    {
      "cell_type": "markdown",
      "metadata": {
        "id": "OUf80eM0fjQ3"
      },
      "source": [
        "### Card\n",
        "The Card Class will have the following attributes and methods:"
      ]
    },
    {
      "cell_type": "code",
      "execution_count": null,
      "metadata": {
        "id": "CZvaPPj0fjQ4"
      },
      "outputs": [],
      "source": [
        "def __init__(self):\n",
        "    self._data = []"
      ]
    },
    {
      "cell_type": "markdown",
      "metadata": {
        "id": "Ah5kc2B5fjQ6"
      },
      "source": [
        "### Deck\n",
        "The Card Class will have the following attributes and methods:"
      ]
    },
    {
      "cell_type": "code",
      "execution_count": null,
      "metadata": {
        "id": "RbpcxYkqfjQ7"
      },
      "outputs": [],
      "source": [
        "def __init__(self):\n",
        "    self._data = []"
      ]
    },
    {
      "cell_type": "markdown",
      "metadata": {},
      "source": [
        "### Game\n",
        "The Game Class will have the following attributes and methods:"
      ]
    },
    {
      "cell_type": "code",
      "execution_count": null,
      "metadata": {},
      "outputs": [],
      "source": [
        "def __init__(self):\n",
        "    self._data = []"
      ]
    },
    {
      "cell_type": "markdown",
      "metadata": {},
      "source": [
        "### Database\n",
        "The Database Class will have the following attributes and methods:"
      ]
    },
    {
      "cell_type": "code",
      "execution_count": null,
      "metadata": {},
      "outputs": [],
      "source": [
        "def __init__(self):\n",
        "    self._data = []"
      ]
    },
    {
      "cell_type": "markdown",
      "metadata": {
        "id": "u98f_692fjQ_"
      },
      "source": [
        "### Main program\n",
        "\n",
        "Flowchart of the main program:\n",
        "\n",
        "![Flowchart](Flashcard_Project_Diagram.drawio.png)\n",
        "\n",
        "Implementation:"
      ]
    },
    {
      "cell_type": "code",
      "execution_count": null,
      "metadata": {
        "id": "JCY46X2ifjQ_"
      },
      "outputs": [],
      "source": [
        "#CODE BLOCK"
      ]
    },
    {
      "cell_type": "markdown",
      "metadata": {
        "id": "EVXyv4_YfjQ_"
      },
      "source": [
        "## Run the program:\n",
        "Run the following cell to test the calculator:"
      ]
    },
    {
      "cell_type": "code",
      "execution_count": null,
      "metadata": {
        "id": "F__Tcdt9fjRA",
        "outputId": "0f47f003-58f7-4678-e11a-584eb94ce2f8"
      },
      "outputs": [],
      "source": [
        "#CODE RUNNER"
      ]
    },
    {
      "cell_type": "markdown",
      "metadata": {
        "id": "mCdIWYk6fjRA"
      },
      "source": [
        "## Discussion\n",
        "### Challenges Faced\n",
        "- Challenge 1\n",
        "- Challenge 2\n",
        "\n",
        "### Further Improvements\n",
        "The code is by no means final and could be improved in the following ways:\n",
        "- possble improvement 1\n",
        "- possble improvement 2\n",
        "\n",
        "\n",
        "\n"
      ]
    }
  ],
  "metadata": {
    "colab": {
      "provenance": []
    },
    "kernelspec": {
      "display_name": "Python 3",
      "language": "python",
      "name": "python3"
    },
    "language_info": {
      "codemirror_mode": {
        "name": "ipython",
        "version": 3
      },
      "file_extension": ".py",
      "mimetype": "text/x-python",
      "name": "python",
      "nbconvert_exporter": "python",
      "pygments_lexer": "ipython3",
      "version": "3.12.7"
    }
  },
  "nbformat": 4,
  "nbformat_minor": 0
}
