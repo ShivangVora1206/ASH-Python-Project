{
  "cells": [
    {
      "cell_type": "markdown",
      "metadata": {
        "id": "aQ1IX5ejfjQ0"
      },
      "source": [
        "# ASH Cards - Flashcards Python Project\n",
        "\n",
        "**Authors**: Shivang, Alam, Heiko, Hanif\n",
        "\n",
        "**Semester**: Winter 2024/25\n",
        "\n",
        "## Description\n",
        "This is a python program intended to help users learn german words easily and build their vocabulary. The program will display a german word and the user will have options to flip the cards and see the meaning. The user can then choose whether they know the meaning or not. The program will keep track of the user's progress and display the words that the user is struggling with more frequently. The user can evaluate their level with a test mode. At the end of the test, the program will display the user's level based on the CEFR scale and also provide a PDF of the result.\n",
        "\n",
        "### Goals of the Project\n",
        "1. Create a database for the german words and their meanings\n",
        "2. Implement game logic and an algortihm to track user progress\n",
        "3. Create a user interface for the game\n",
        "4. Implement a feature to add new words to the database and remove words from the database\n",
        "5. Implement a test mode to evaluate the user's vocabulary level\n",
        "6. Implement a feature to display the words that the user is struggling with more frequently\n",
        "7. Give user the ability to filter words based on individual levels\n",
        "\n",
        "### Roadmap to Reach the Goal\n",
        "We defined several steps to realize the project goals:\n",
        "1. Collect data for the german words and their meanings\n",
        "2. Create a database for the german words and their meanings\n",
        "3. Implement game logic and an algortihm to track user progress\n",
        "4. Create separate pages for the game, add word and remove word\n",
        "5. Create a database class to interact with the database\n",
        "6. Create a config file to store configuration values\n",
        "7. Get CEFR level information for all words in the database\n",
        "8. Create a test mode and implement the logic to evaluate the user's level\n",
        "9. Implement a PDFGenerator class to show user results in a PDF\n",
        "\n",
        "### Responsibilities\n",
        "We divided the work packages among all team members and discussed the progress in team meetings.\n",
        "- Shivang: Database class, Game logic, User interface, Test mode, PDFGenerator, Classsifier (Using google Gemini AI to get CEFR level), FLowcharts\n",
        "- Alam: Remove Word Page, A1 German/English words, A2 German/English words\n",
        "- Heiko: Config file, Add Word Page, Beolingus (for more info on chosen words), 1000 entry WordList\n",
        "- Hanif: Initial game logic, User interface, game page, presentation slides\n"
      ]
    },
    {
      "cell_type": "markdown",
      "metadata": {},
      "source": [
        "### Program Screenshots"
      ]
    },
    {
      "cell_type": "markdown",
      "metadata": {},
      "source": [
        "![GameImage](Images/home.png)"
      ]
    },
    {
      "cell_type": "markdown",
      "metadata": {},
      "source": [
        "![GameImage](Images/game.png)"
      ]
    },
    {
      "cell_type": "markdown",
      "metadata": {
        "id": "5U4J-fQufjQ2"
      },
      "source": [
        "## Project Files Overview"
      ]
    },
    {
      "cell_type": "markdown",
      "metadata": {
        "id": "fupcvfLDfjQ3"
      },
      "source": [
        "### Custom Modules/Classes\n",
        "\n",
        "- `database.py`: Contains the Database class to manage and interact with the word database.\n",
        "- `classifier.py`: Uses Google Gemini AI to classify German words into CEFR levels.\n",
        "- `ASH_Cards.py`: Implements the main game logic and user interface for the flashcard application.\n",
        "- `PdfGenerator.py`: Generates a PDF report of the user's test results.\n"
      ]
    },
    {
      "cell_type": "markdown",
      "metadata": {
        "id": "OUf80eM0fjQ3"
      },
      "source": [
        "database.py\n",
        "\n",
        "The `Database` class is responsible for managing and interacting with the word database. It provides methods to load, save, and manipulate the data, as well as to manage game queues based on different game modes. The class supports adding, removing, and fetching words, updating scores, and evaluating test results.\n",
        "\n",
        "#### Example Usage:\n"
      ]
    },
    {
      "cell_type": "markdown",
      "metadata": {
        "id": "CZvaPPj0fjQ4",
        "vscode": {
          "languageId": "markdown"
        }
      },
      "source": [
        "### Database Class Interface\n",
        "\n",
        "The `Database` class provides the following attributes and methods:\n",
        "\n",
        "#### Attributes:\n",
        "- `filename`: The name of the file where the database is stored.\n",
        "- `data`: Stores the data of the database.\n",
        "- `game_queue`: Stores the words for the game queue.\n",
        "\n",
        "#### Methods:\n",
        "- `__init__(self, filename)`: Initializes the database with the specified filename and loads the data and game queue.\n",
        "- `load(self)`: Loads data from the specified file.\n",
        "- `save(self)`: Saves data to the specified file.\n",
        "- `load_game_queue(self, game_mode)`: Loads the game queue based on the specified game mode.\n",
        "- `set_game_mode(self, game_mode)`: Sets the game mode and loads the corresponding game queue.\n",
        "- `add_word(self, German, English, level, desc=None)`: Adds a new word to the database.\n",
        "- `remove_word(self, word_id)`: Removes a word from the database by its ID.\n",
        "- `fetch_word_by_id(self, word_id)`: Fetches the details of a specific word by its ID.\n",
        "- `update_score_in_game_queue(self, word_id, score, game_mode)`: Updates the score of a specific word in the game queue.\n",
        "- `update_score_in_db(self, word_id, score)`: Updates the score of a specific word in the database.\n",
        "- `fetch_all(self)`: Retrieves all words from the database.\n",
        "- `fetch_reverse_sorted(self, limit=None)`: Retrieves all words from the database, sorted in reverse order by score.\n",
        "- `fetch_sorted(self, limit=None)`: Retrieves all words from the database, sorted by score.\n",
        "- `fetch_random(self, limit=None)`: Retrieves a random sample of words from the database.\n",
        "- `fetch_next_card(self, game_mode)`: Fetches the next card to study based on the game mode.\n",
        "- `fetch_random_card(self)`: Fetches a random card from the database.\n",
        "- `fetch_random_meaning(self)`: Fetches a random English meaning from the database.\n",
        "- `fetch_all_words_by_level(self, level)`: Retrieves all words of a specific CEFR level from the database.\n",
        "- `fetch_words_by_level(self, level, limit=None)`: Retrieves words of a specific CEFR level from the database, with an optional limit.\n",
        "- `fetch_random_by_level(self, level, limit=1)`: Retrieves a random sample of words of a specific CEFR level from the database.\n",
        "- `evaluate_result(self, game_mode)`: Evaluates the test results and updates the database accordingly.\n"
      ]
    },
    {
      "cell_type": "markdown",
      "metadata": {},
      "source": [
        "![Flowchart](flowcharts/flow_database_py.png)"
      ]
    },
    {
      "cell_type": "markdown",
      "metadata": {},
      "source": [
        "[FLowchart](/flowcharts/flow_database_py.drawio.pdf)"
      ]
    },
    {
      "cell_type": "markdown",
      "metadata": {
        "id": "Ah5kc2B5fjQ6"
      },
      "source": [
        "### ASH_Cards\n",
        "The `ASH_Cards` module implements the main game logic and user interface for the flashcard application. It uses the Tkinter library to create a graphical user interface (GUI) where users can interact with the flashcards. The module handles navigation between different pages, such as the main menu, game page, add card page, remove card page, and result page. It also manages the display of cards, user interactions, and updates to the database based on user actions. The module supports different game modes, including a test mode to evaluate the user's vocabulary level."
      ]
    },
    {
      "cell_type": "markdown",
      "metadata": {
        "id": "RbpcxYkqfjQ7",
        "vscode": {
          "languageId": "markdown"
        }
      },
      "source": [
        "### ASH_Cards Module\n",
        "\n",
        "\n",
        "#### Attributes:\n",
        "- `c`: Configuration parser object to read configuration values from `config.ini`.\n",
        "- `db`: Instance of the `Database` class to manage and interact with the word database.\n",
        "- `pdf_gen`: Instance of the `PdfGen` class to generate PDF reports of the user's test results.\n",
        "- `b`: Instance of the `Beolingus` class to fetch additional information about words.\n",
        "- `root_bg`: Background color for the root window.\n",
        "- `root_fg`: Foreground color for the root window.\n",
        "- `root`: Tkinter root window.\n",
        "- `custom_font1`, `custom_font2`, `custom_font3`: Custom fonts used in the application.\n",
        "- `fontXL`, `fontL`, `fontM`, `fontMB`, `fontSM`: Tkinter font objects for different text sizes.\n",
        "- `style`: Tkinter style object for button styles.\n",
        "- `background_image_path`: Path to the background image.\n",
        "- `background_image`: PIL image object for the background image.\n",
        "- `bg_image_tk`: Tkinter PhotoImage object for the background image.\n",
        "- `page_main`, `page_game`, `page_more_info`, `page_add_card`, `page_remove_card`, `page_result`: Tkinter frames for different pages.\n",
        "- `canvas_image`: Canvas image object for the background image.\n",
        "- `current_card`: Current card being displayed.\n",
        "- `options`: List of options for the current card.\n",
        "- `card_label_toggle_state`: Boolean to track the state of the card label toggle.\n",
        "- `card_label_frame`, `card_label`, `feedback_label`, `user_level_label`, `button_result`, `card_id_label`: Tkinter widgets for displaying card information and feedback.\n",
        "- `threshold`: Threshold value for determining user performance.\n",
        "- `game_modes`: List of available game modes.\n",
        "- `selected_game_mode`: Currently selected game mode.\n",
        "- `selected_game_mode_var`: Tkinter StringVar object for the selected game mode.\n",
        "- `option_length_limit`: Maximum length for option text.\n",
        "\n",
        "#### Methods:\n",
        "- `show_main_menu()`: Displays the main menu page.\n",
        "- `start_game(back=False)`: Starts the game and displays the game page.\n",
        "- `show_more_info()`: Displays the more info page for the current card.\n",
        "- `show_add_card()`: Displays the add card page.\n",
        "- `show_remove_card()`: Displays the remove card page.\n",
        "- `show_result_page()`: Displays the result page with the user's test results.\n",
        "- `update_canvas_binding(event)`: Updates the canvas and widget positions when the window is resized.\n",
        "- `update_more_info_binding(event)`: Updates the more info content label wrap length when the window is resized.\n",
        "- `load_next_card()`: Loads the next card to be displayed in the game.\n",
        "- `load_more_info(card)`: Loads additional information about the specified card.\n",
        "- `card_label_toggle()`: Toggles the display of the card label between the German word and the German word with its English meaning.\n",
        "- `check_answer(selected_option)`: Checks the user's selected option against the correct answer and updates the score and feedback.\n",
        "\n"
      ]
    },
    {
      "cell_type": "markdown",
      "metadata": {},
      "source": [
        "![Flowchart](flowcharts/flow_Updated_game_logic_py.drawio.png)"
      ]
    },
    {
      "cell_type": "markdown",
      "metadata": {},
      "source": [
        "### classifier.py\n",
        "The `classifier.py` module is responsible for classifying German words into CEFR levels using the Google Gemini AI. It reads a dataset of German words, divides them into chunks based on their initial letters, and uses the AI model to determine the CEFR level for each word. The results are then consolidated and saved into a final JSON file."
      ]
    },
    {
      "cell_type": "markdown",
      "metadata": {},
      "source": [
        "### Classifier Module\n",
        "\n",
        "\n",
        "#### Attributes:\n",
        "- `initials`: List of initial letters used to chunk the dataset.\n",
        "- `word_count`: Counter for the total number of words processed.\n",
        "- `data`: List of words loaded from the dataset.\n",
        "- `model`: Instance of the Generative AI model used for classification.\n",
        "\n",
        "#### Methods:\n",
        "- `load_dotenv()`: Loads environment variables from a `.env` file.\n",
        "- `genai.configure(api_key=os.environ[\"GOOGLE_API_KEY\"])`: Configures the Generative AI model with the API key.\n",
        "- `model.generate_content(prompt)`: Generates content using the AI model based on the provided prompt.\n",
        "\n"
      ]
    },
    {
      "cell_type": "markdown",
      "metadata": {},
      "source": [
        "### Beolingus\n",
        "The `Beolingus` class is responsible for managing and interacting with the Beolingus dictionary. It provides methods to check the existence of the dictionary file, download it if necessary, load the dictionary into memory, and search for German-English word pairs based on various criteria. The class supports displaying help information, dumping a sample of the dictionary content, and querying the dictionary for specific words with options for case sensitivity, matching whole words, and more."
      ]
    },
    {
      "cell_type": "markdown",
      "metadata": {},
      "source": [
        "### Beolingus Module\n",
        "\n",
        "#### Attributes:\n",
        "- `dict`: List to store the dictionary entries.\n",
        "- `file`: The name of the file where the dictionary is stored.\n",
        "- `url`: The URL from which the dictionary can be downloaded.\n",
        "- `is_loaded`: Boolean flag to indicate whether the dictionary has been loaded.\n",
        "\n",
        "#### Methods:\n",
        "- `__init__(self)`: Initializes the Beolingus object and checks if the dictionary file exists.\n",
        "- `exists(self)`: Checks if the dictionary file exists.\n",
        "- `download(self)`: Downloads the dictionary file from the specified URL.\n",
        "- `do_load(self)`: Loads the dictionary entries from the file into the `dict` attribute.\n",
        "- `load(self)`: Loads the dictionary if it is not already loaded.\n",
        "- `check(self)`: Checks if the dictionary is loaded, and loads it if necessary.\n",
        "- `dump(self)`: Prints a sample of the dictionary entries for debugging purposes.\n",
        "- `help(self)`: Prints help information about the available methods.\n",
        "- `show_flags(self, flags)`: Displays the search flags used in the `info` method.\n",
        "- `is_match(self, pattern, text)`: Checks if a pattern matches a given text using regular expressions.\n",
        "- `show_entry(self, entry)`: Formats a dictionary entry for display.\n",
        "- `show_query(self, word, de, en, first, apart, ignorecase)`: Searches the dictionary for a word and returns the matching entries.\n",
        "- `info(self, word, de=True, en=True, first=False, apart=False, ignorecase=True)`: Displays information about a word based on the specified search flags.\n"
      ]
    },
    {
      "cell_type": "markdown",
      "metadata": {},
      "source": [
        "![Flowchart](flowcharts/flow_beolingus.drawio.png)"
      ]
    },
    {
      "cell_type": "markdown",
      "metadata": {
        "id": "u98f_692fjQ_"
      },
      "source": [
        "### PdfGenerator\n",
        "The `PdfGenerator` class is responsible for generating a PDF report of the user's test results."
      ]
    },
    {
      "cell_type": "markdown",
      "metadata": {
        "id": "JCY46X2ifjQ_"
      },
      "source": [
        "### PdfGenerator Module\n",
        "\n",
        "The module provides a class `PdfGen` that interacts with the database to fetch the test results and generate a PDF report.\n",
        "\n",
        "#### Attributes:\n",
        "- `db_ref`: Reference to the `Database` object used to fetch test results.\n",
        "\n",
        "#### Methods:\n",
        "- `__init__(self, db_ref)`: Initializes the `PdfGen` object with a reference to the `Database` object.\n",
        "- `generate_pdf(self, selected_game_mode)`: Generates a PDF report of the test results for the specified game mode.\n"
      ]
    },
    {
      "cell_type": "markdown",
      "metadata": {},
      "source": [
        "![Flowchart](flowcharts/flow_PdfGenerator_py.drawio.png)"
      ]
    },
    {
      "cell_type": "markdown",
      "metadata": {
        "id": "EVXyv4_YfjQ_"
      },
      "source": [
        "## Run the program:\n",
        "The main game logic is implemented in the `ASH_Cards.py` module. To run the program, execute the following command:\n",
        "\n",
        "\n",
        "```bash\n",
        "python ASH_Cards.py\n",
        "```\n",
        "\n",
        "The program will start and display the main menu page. From there, you can navigate to different pages, such as the game page, add card page, remove card page, and result page. You can interact with the flashcards, add new words to the database, remove words from the database, and evaluate your vocabulary level with the test mode."
      ]
    },
    {
      "cell_type": "markdown",
      "metadata": {
        "id": "mCdIWYk6fjRA"
      },
      "source": [
        "## Discussion\n",
        "### Challenges Faced\n",
        "- Fetching the dataset of German words and their meanings was a challenge as we needed a reliable source with a large number of words. It was solved by fetching and cleaning data from a TU Chemnitz maintained dataset.\n",
        "- Implementing the game logic and user interface was challenging due to the complexity of managing different game modes, user interactions, and database updates. It was solved by breaking down the logic into smaller components and testing each component individually.\n",
        "- Classifying German words into CEFR levels was a challenge due to the lack of a pre-trained model for German words. It was solved by using the Google Gemini AI model to classify the words.\n",
        "- Generating a PDF report of the test results was a challenge due to the complexity of formatting the report and including the test results. It was solved by using the `reportlab` library to generate the PDF report.\n",
        "\n",
        "### Further Improvements\n",
        "The code is by no means final and could be improved in the following ways:\n",
        "- Implement a feature to track user progress over time and provide insights into their learning patterns.\n",
        "- Add support for multiple languages and allow users to switch between different language pairs.\n",
        "- Add features to customize the game settings, such as the number of cards, difficulty level, and game duration.\n",
        "\n",
        "\n",
        "\n"
      ]
    }
  ],
  "metadata": {
    "colab": {
      "provenance": []
    },
    "kernelspec": {
      "display_name": "Python 3",
      "language": "python",
      "name": "python3"
    },
    "language_info": {
      "codemirror_mode": {
        "name": "ipython",
        "version": 3
      },
      "file_extension": ".py",
      "mimetype": "text/x-python",
      "name": "python",
      "nbconvert_exporter": "python",
      "pygments_lexer": "ipython3",
      "version": "3.12.7"
    }
  },
  "nbformat": 4,
  "nbformat_minor": 0
}
